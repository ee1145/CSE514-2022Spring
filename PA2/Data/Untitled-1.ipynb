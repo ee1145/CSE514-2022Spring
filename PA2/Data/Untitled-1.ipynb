{
 "cells": [
  {
   "cell_type": "code",
   "execution_count": null,
   "metadata": {},
   "outputs": [],
   "source": [
    "# import pandas as pd\n",
    "# import numpy as np\n",
    "# from sklearn.model_selection import train_test_split\n",
    "# from sklearn.impute import KNNImputer\n",
    "\n",
    "# header = [0, 1, 2, 3, 4, 5, 6, 7, 8, 9, 10]\n",
    "# data = pd.read_csv(r\"\",names=header,na_values=\"?\")\n",
    "# data.drop(0, axis=1, inplace=True)\n",
    "# X = np.array(data.drop(10, axis=1))\n",
    "# y = np.array(data[10])\n",
    "# y = np.where(y == 2, 0, 1)\n",
    "\n",
    "# # impute missing values\n",
    "# imputer = KNNImputer(n_neighbors=1, weights=\"uniform\")\n",
    "# X = imputer.fit_transform(X)\n",
    "\n",
    "# X_train, X_val, y_train_1d, y_val_1d = train_test_split(X, y, test_size=0.1, random_state=42)\n",
    "\n",
    "# y_train = y_train_1d.reshape(-1, 1)\n",
    "# y_val = y_val_1d.reshape(-1, 1)\n",
    "\n",
    "# y_train_onehot = np.array(pd.get_dummies(y_train_1d))\n",
    "# y_val_onehot = np.array(pd.get_dummies(y_val_1d))\n",
    "# print(X.shape)\n"
   ]
  }
 ],
 "metadata": {
  "language_info": {
   "name": "python"
  },
  "orig_nbformat": 4
 },
 "nbformat": 4,
 "nbformat_minor": 2
}
