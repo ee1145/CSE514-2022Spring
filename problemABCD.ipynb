{
 "cells": [
  {
   "cell_type": "markdown",
   "id": "f0f62791",
   "metadata": {},
   "source": [
    "This is an interactive code notebook, I will first import three python extension package to read data, divide it into 2 chunck and build up regression picture"
   ]
  },
  {
   "cell_type": "code",
   "execution_count": 578,
   "id": "f7dafe41",
   "metadata": {},
   "outputs": [],
   "source": [
    "import matplotlib.pyplot as plt\n",
    "import numpy as np\n",
    "import pandas as pd\n",
    "import warnings"
   ]
  },
  {
   "cell_type": "markdown",
   "id": "7716d21b",
   "metadata": {},
   "source": [
    "First of all, I will load data, and initialize variables for later utilization. For loading, I could use either Numpy or Pandas. Both of them are widely used for data processing. However, The difference between Pandas and Numpy, Numpy is a matrix-based mathematical calculation module, an extension package for numerical calculations, Pandas mainly does data processing, providing the DataFrame data structure. For this question I tend to use Numpy to form a matrix, and then divide the original data set into training and testing set."
   ]
  },
  {
   "cell_type": "code",
   "execution_count": 579,
   "id": "b6236ad6-172c-405a-b172-863995586659",
   "metadata": {},
   "outputs": [],
   "source": [
    "#load data\n",
    "load = pd.read_excel(r\"Data\\Concrete_Data.xls\")\n",
    "data = np.array(load) \n",
    "# initialization\n",
    "\n",
    "# the range of index_of_current_character should be [0,7]\n",
    "index_of_current_character = 7\n",
    "\n",
    "character = load.columns[index_of_current_character]\n",
    "#divide the set into two parts\n",
    "training_set = data[:900]\n",
    "testing_set = data[900:]\n",
    "# for training set\n",
    "x_training = training_set[:,index_of_current_character] \n",
    "y_training = training_set[:,-1] \n",
    "# for testinh set\n",
    "x_testing = testing_set[:, index_of_current_character]\n",
    "y_testing = testing_set[:,-1]\n",
    "#the learning rate alpha\n",
    "lr = 1e-6\n",
    "epoches = 1000\n",
    "#For coefficient m and b:\n",
    "initial_m_b = np.array([[0.0, 0.0] , [0.1, 33], [100.1 , 40.0] , [70 , -0.3] , [0, 30] , [24.5, 0], [35 , 0] , [0.1, 29.0]])\n",
    "current_character_m_b  = np.array(initial_m_b[index_of_current_character], dtype= \"double\")\n",
    "m = current_character_m_b[0]\n",
    "b= current_character_m_b[1]\n"
   ]
  },
  {
   "cell_type": "markdown",
   "id": "ee6798a3",
   "metadata": {},
   "source": [
    "(A) Uni-variate linear regression \n",
    "For this question, I will define two function: the first one is uni_variate_linear_regression_model_training \n",
    "for training to get value of coefficient m and b; the second is to calculate mean square error(MSE) for both training and testing set."
   ]
  },
  {
   "cell_type": "code",
   "execution_count": 580,
   "id": "8e4c0067",
   "metadata": {},
   "outputs": [
    {
     "name": "stdout",
     "output_type": "stream",
     "text": [
      "Current feature variable is: Age (day)\n",
      "the coefficient m of this question should be:0.10863230970133013\n",
      "the coefficient b of this question should be:28.968001769545744\n",
      "MSE of Traing set's MSE is: 270.035\n",
      "MSE of Test set's MSE is: 143.722\n"
     ]
    }
   ],
   "source": [
    "#For training:\n",
    "def uni_variate_linear_regression_model_training(current_character_m_b, x_training ,y_training, lr, epoches):\n",
    "    x_training_size = x_training.shape[0]\n",
    "    for i in range(epoches):\n",
    "        y_predicted = current_character_m_b[0]* x_training + current_character_m_b[1]\n",
    "        current_character_m_b[0] = current_character_m_b[0] - lr * sum(2 * (y_predicted - y_training) * x_training) / x_training_size\n",
    "        current_character_m_b[1] = current_character_m_b[1] - lr * sum(2 * y_predicted - y_training) / x_training_size\n",
    "    print(\"Current feature variable is: {}\".format(character))\n",
    "    return current_character_m_b\n",
    "\n",
    "#after training, use m and b for calculate mse\n",
    "def uni_variate_linear_regression_model(x_training, y_training,x_testing, y_testing, current_character_m_b):\n",
    "    #initial coefficient\n",
    "    m = current_character_m_b[0]\n",
    "    b = current_character_m_b[1]\n",
    "    #record size of set\n",
    "    x_training_size = x_training.shape[0]\n",
    "    x_testing_size = x_testing.shape[0]\n",
    "    #regression formula\n",
    "    y_training_predicted = m * x_training + b\n",
    "    y_test_predicted = m * x_testing + b\n",
    "    #Calculate MSE for x_training and x_testing\n",
    "    mse_train = np.sum((y_training -  y_training_predicted ) ** 2, dtype='double') / x_training_size\n",
    "    mse_test = np.sum((y_testing - y_test_predicted ) ** 2, dtype='double') / x_testing_size\n",
    "    print(\"the coefficient m of this question should be:{}\".format(m))\n",
    "    print(\"the coefficient b of this question should be:{}\".format(b))\n",
    "    print(\"MSE of Traing set's MSE is: {}\".format( round(mse_train, 3)))\n",
    "    print(\"MSE of Test set's MSE is: {}\".format(round(mse_test, 3)))\n",
    "    return mse_train,mse_test\n",
    "\n",
    "warnings.filterwarnings('ignore')\n",
    "current_character_m_b = uni_variate_linear_regression_model_training(current_character_m_b, x_training, y_training, lr, epoches)\n",
    "final_model_trained_mse = uni_variate_linear_regression_model(x_training, y_training, x_testing, y_testing, current_character_m_b)\n"
   ]
  },
  {
   "cell_type": "markdown",
   "id": "d3e40dfa",
   "metadata": {},
   "source": [
    "After preparation of MSE's value, now we can calculate the variance explained for the response varibale as followed:"
   ]
  },
  {
   "cell_type": "code",
   "execution_count": 581,
   "id": "3e48ce01",
   "metadata": {},
   "outputs": [
    {
     "name": "stdout",
     "output_type": "stream",
     "text": [
      "the variance explained of training set in this model is 0.087\n",
      "the variance explained of testing set in this model is 0.514\n"
     ]
    }
   ],
   "source": [
    "#calculate the variance \n",
    "\n",
    "def calculate_current_character_variance(y):\n",
    "    n = y.shape[0]\n",
    "    mean = np.sum(y_training) / n\n",
    "    sum = 0\n",
    "    for i in y_training:\n",
    "        sum_1 = (i - mean)**2\n",
    "        sum = sum_1 + sum\n",
    "    current_character_variance = sum / n\n",
    "    return current_character_variance\n",
    "\n",
    "#get variance explained for the response variable: 1 - MSE / variance(observed)\n",
    "def calculate_current_character_variance_explained(current_character_variance, final_model_trained_mse):\n",
    "    result_training_set = 1 - (final_model_trained_mse[0] / current_character_variance)\n",
    "    result_testing_set = 1 - (final_model_trained_mse[1] / current_character_variance)\n",
    "    print(\"the variance explained of training set in this model is {}\". format(round(result_training_set,3)))\n",
    "    print(\"the variance explained of testing set in this model is {}\". format(round(result_testing_set,3)))\n",
    "    return\n",
    "\n",
    "current_character_variance = calculate_current_character_variance(y_training)\n",
    "result = calculate_current_character_variance_explained(current_character_variance, final_model_trained_mse)"
   ]
  },
  {
   "cell_type": "markdown",
   "id": "3fba3859",
   "metadata": {},
   "source": [
    "Utilize matplotlib to draw a plot to present relation between a character and concrete compressive strength(Mpa)"
   ]
  },
  {
   "cell_type": "code",
   "execution_count": 582,
   "id": "b18d763e",
   "metadata": {},
   "outputs": [
    {
     "data": {
      "image/png": "[encoded data removed]",
      "text/plain": [
       "<Figure size 432x288 with 1 Axes>"
      ]
     },
     "metadata": {
      "needs_background": "light"
     },
     "output_type": "display_data"
    }
   ],
   "source": [
    "x = np.arange(np.min(x_training), np.max(x_training), 0.2)\n",
    "y = x * current_character_m_b[0]  + current_character_m_b[1]\n",
    "plt.figure()\n",
    "plt.scatter(x_training, y_training, s=10)\n",
    "plt.plot(x_training, y_training, '.', color = '#228b22')\n",
    "plt.plot(x, y, linewidth=3, color = '#ff4d40')\n",
    "plt.xlim([0.9 * min(x_training), 1.05 * max(x_training)])\n",
    "plt.ylim([0.9 * min(y_training), 1.05 * max(y_training)])\n",
    "plt.xlabel(character)\n",
    "plt.ylabel(load.columns[-1])\n",
    "plt.title(\"Uni-variate linear regression\")   \n",
    "plt.show()"
   ]
  },
  {
   "cell_type": "markdown",
   "id": "50bf3914",
   "metadata": {},
   "source": [
    "(B) Multi-variate linear regression\n",
    "\n",
    "After plusing the b(intercept) parameter, now we have nine model parameters for this question. For optimizing a multi-variate linear regression model, I will apply the gradient descent algorithm, and utilize mean sqaured error objective function\n",
    "\n",
    "Mult-variate linear models can be succinctly represented as :\n",
    "y = f(x) = (m,x)\n",
    "where m = (m0, m1,...,m7)^T and x = (1,x1,x2,...,x7)^T "
   ]
  },
  {
   "cell_type": "code",
   "execution_count": 583,
   "id": "3b2925b8",
   "metadata": {},
   "outputs": [
    {
     "name": "stdout",
     "output_type": "stream",
     "text": [
      "the mse of multi-vartiate model's training set is 136.3\n",
      "the mse of multi-vartiate model's testing set is 56.8\n",
      "[ 2.91177805e-05  1.02119833e-01  7.34192201e-02  7.03044631e-02\n",
      " -5.19547716e-02  1.85439994e-02 -4.37869361e-03  9.99780293e-03\n",
      "  8.46956980e-02]\n",
      "(136.30846678358665, 56.80789678479352)\n"
     ]
    }
   ],
   "source": [
    "#initialization\n",
    "x_training = data[:900, :-1]\n",
    "# y_training = data[:900, -1]\n",
    "x_testing = data[900:, :-1]\n",
    "# y_testing = data[900:, -1]\n",
    "#for m0, we should insert 1 for training and testing set:\n",
    "x_training = np.insert(x_training, 0 , values= np.ones(x_training.shape[0]), axis= 1)\n",
    "x_testing = np.insert(x_testing, 0 , values= np.ones(x_testing.shape[0]), axis= 1)\n",
    "#new learning rate:\n",
    "lr = 5.85e-7\n",
    "#new epoch\n",
    "epoches = 500\n",
    "def multi_variate_linear_regression_training(x_training, y_training, lr, epoches):\n",
    "    #initial m np.ones?\n",
    "    m = np.zeros(x_training.shape[1])\n",
    "    for i in range(epoches):\n",
    "        multi_variate_y_predicted =  x_training @ m\n",
    "        delta = multi_variate_y_predicted - y_training\n",
    "        m = m - lr * (2/x_training.shape[0] * (delta @ x_training))\n",
    "        \n",
    "    return m\n",
    "\n",
    "def  multi_variate_linear_regression_model(current_character_m, x_training, y_training, x_testing, y_testing):\n",
    "    m = current_character_m\n",
    "    mse_training = np.sum ((x_training @ m - y_training) ** 2) / x_training.shape[0]\n",
    "    mse_testing = np.sum ((x_testing @ m - y_testing) ** 2) / x_testing.shape[0]\n",
    "    # print(\"the coefficient m of this question should be:{}\".format(m.shape))\n",
    "    print(\"the mse of multi-vartiate model's training set is {}\".format(round(mse_training, 1)))\n",
    "    print(\"the mse of multi-vartiate model's testing set is {}\".format(round(mse_testing, 1)))\n",
    "    print(m)\n",
    "    return mse_training, mse_testing\n",
    "\n",
    "current_character_m = multi_variate_linear_regression_training(x_training, y_training, lr, epoches)\n",
    "multi_variate_mse_result = multi_variate_linear_regression_model(current_character_m, x_training, y_training, x_testing, y_testing)\n",
    "print(multi_variate_mse_result)\n"
   ]
  },
  {
   "cell_type": "code",
   "execution_count": 584,
   "id": "0233a923",
   "metadata": {},
   "outputs": [
    {
     "name": "stdout",
     "output_type": "stream",
     "text": [
      "the variance explained of training set in this model is 0.539\n",
      "the variance explained of testing set in this model is 0.808\n"
     ]
    }
   ],
   "source": [
    "#calculate the variance explained of multi-variate regression model for all characters\n",
    "current_character_variance = calculate_current_character_variance(y_training)\n",
    "result = calculate_current_character_variance_explained(current_character_variance, multi_variate_mse_result)"
   ]
  },
  {
   "cell_type": "markdown",
   "id": "6e2cb12d",
   "metadata": {},
   "source": [
    "（C）Multi-variate polynomial regression\n",
    "\n",
    "For the question C, what I should extended is a multi-variate quadratic regression model, which has 36 quadratic terms, and eight linear terms. For the question D, I will try to normalize wor standardize each variable, as some variables, such like Age and Cement, do not have same unit of measurement."
   ]
  },
  {
   "cell_type": "code",
   "execution_count": 585,
   "id": "75b7e906",
   "metadata": {},
   "outputs": [
    {
     "name": "stdout",
     "output_type": "stream",
     "text": [
      "before add characters:(1030, 9)\n",
      "after add characters:(1030, 46)\n"
     ]
    }
   ],
   "source": [
    "def reshape_a_new_dataset(data):\n",
    "    i = 0\n",
    "    j = 0\n",
    "    # total_characters = 8, two while loop to calculate x1^2, x1 * x2, ..., x8^2\n",
    "    while (i < 9):\n",
    "        j = i\n",
    "        while (j < 8):\n",
    "            x = data[: , j] \n",
    "            h = np.reshape(x, (1,-1)) * data[: , j] \n",
    "            l = np.reshape(h, (1,-1))\n",
    "            data = np.insert(data, obj=data.shape[1] - 1 , values= l, axis= 1)\n",
    "            j+=1\n",
    "        i += 1\n",
    "    data = np.insert(data, obj=0 , values= np.ones(data.shape[0]), axis= 1)\n",
    "    return data\n",
    "print(\"before add characters:{}\".format(data.shape))\n",
    "processed_data = reshape_a_new_dataset(data)\n",
    "print(\"after add characters:{}\".format(processed_data.shape))"
   ]
  },
  {
   "cell_type": "code",
   "execution_count": 586,
   "id": "db6976e9",
   "metadata": {},
   "outputs": [],
   "source": [
    "#initialization\n",
    "x_training = processed_data[:900, :-1]\n",
    "y_training = processed_data[:900, -1]\n",
    "x_testing = processed_data [900:, :-1]\n",
    "y_testing = processed_data [900:, -1]\n",
    "\n",
    "#new learning rate:\n",
    "lr = 1.1e-13\n",
    "#new epoch\n",
    "epoches = 100000"
   ]
  },
  {
   "cell_type": "code",
   "execution_count": 587,
   "id": "5e6a86b0",
   "metadata": {},
   "outputs": [
    {
     "name": "stdout",
     "output_type": "stream",
     "text": [
      "the mse of multi-vartiate model's training set is 185.3\n",
      "the mse of multi-vartiate model's testing set is 119.9\n",
      "(185.34482163100196, 119.94098034145868)\n"
     ]
    }
   ],
   "source": [
    "def multi_variate_linear_regression_training(x_training, y_training, lr, epoches):\n",
    "    m = np.zeros(x_training.shape[1])\n",
    "    for i in range(epoches):\n",
    "        multi_variate_y_predicted =  x_training @ m\n",
    "        delta = multi_variate_y_predicted - y_training\n",
    "        m = m - lr * (2/x_training.shape[0] * (delta @ x_training))    \n",
    "    return m\n",
    "\n",
    "def  multi_variate_linear_regression_model(current_character_m, x_training, y_training, x_testing, y_testing):\n",
    "    m = current_character_m\n",
    "    mse_training = np.sum ((x_training @ m - y_training) ** 2) / x_training.shape[0]\n",
    "    mse_testing = np.sum ((x_testing @ m - y_testing) ** 2) / x_testing.shape[0]\n",
    "    print(\"the mse of multi-vartiate model's training set is {}\".format(round(mse_training, 1)))\n",
    "    print(\"the mse of multi-vartiate model's testing set is {}\".format(round(mse_testing, 1)))\n",
    "    return mse_training, mse_testing\n",
    "\n",
    "\n",
    "current_character_m = multi_variate_linear_regression_training(x_training, y_training, lr, epoches)\n",
    "multi_variate_mse_result = multi_variate_linear_regression_model(current_character_m, x_training, y_training, x_testing, y_testing)\n",
    "print(multi_variate_mse_result)"
   ]
  },
  {
   "cell_type": "code",
   "execution_count": 588,
   "id": "574d0b91",
   "metadata": {},
   "outputs": [
    {
     "name": "stdout",
     "output_type": "stream",
     "text": [
      "the variance explained of training set in this model is 0.374\n",
      "the variance explained of testing set in this model is 0.595\n"
     ]
    }
   ],
   "source": [
    "#calculate the variance explained for the response variable:\n",
    "current_character_variance = calculate_current_character_variance(y_training)\n",
    "result = calculate_current_character_variance_explained(current_character_variance, multi_variate_mse_result)"
   ]
  },
  {
   "cell_type": "markdown",
   "id": "33a340ee",
   "metadata": {},
   "source": [
    "(D)Data pre-processing\n",
    "About Normalization, Standardization.\n",
    "\n",
    "\"Normalization is a scaling technique in which values are shifted and rescaled so that they end up ranging between 0 and 1. It is also known as Min-Max scaling.\"4\n",
    "\n",
    "\"Standardization is another scaling technique where the values are centered around the mean with a unit standard deviation. This means that the mean of the attribute becomes zero and the resultant distribution has a unit standard deviation.\"4\n",
    "\n",
    "I think once we finished pre-processing the data by normalizing or standardizing each variable, the MSE will dramatically reduced, and the preformence of the model will be improved a lot. For this question, I will use training set to calculate!"
   ]
  },
  {
   "cell_type": "code",
   "execution_count": 589,
   "id": "8f142042",
   "metadata": {},
   "outputs": [],
   "source": [
    "#referred with 5\n",
    "from sklearn.preprocessing import StandardScaler, Normalizer\n",
    "def normalization(x):\n",
    "    normalized_data = Normalizer().fit_transform(x)\n",
    "    return normalized_data\n",
    " \n",
    "def standardization(x):\n",
    "    standardized_data = StandardScaler().fit_transform(x)\n",
    "    return standardized_data\n",
    "\n",
    "data_with_46_column = processed_data\n",
    "x_variable_preprocess = data_with_46_column[:, :-1]\n",
    "after_normalization = normalization(x_variable_preprocess)\n",
    "after_standardization = standardization(x_variable_preprocess)\n"
   ]
  },
  {
   "cell_type": "code",
   "execution_count": 595,
   "id": "8741c9d4",
   "metadata": {},
   "outputs": [
    {
     "data": {
      "image/png": "[encoded data removed]",
      "text/plain": [
       "<Figure size 432x288 with 1 Axes>"
      ]
     },
     "metadata": {
      "needs_background": "light"
     },
     "output_type": "display_data"
    }
   ],
   "source": [
    "# for creating histograms that illustrate how the distribution of a feature variables' changed.[6]\n",
    "\n",
    "#change data to get differnet distribution\n",
    "# data = after_normalization\n",
    "data = after_standardization\n",
    "# data = data_with_46_column \n",
    "\n",
    "\n",
    "plt.hist(data, bins=20, facecolor=\"blue\", edgecolor=\"black\", alpha=0.7)\n",
    "plt.xlabel(\"after pre-process data\")\n",
    "plt.ylabel(\"Concrete Compressive Strength\")\n",
    "# plt.title(\"Original distribution\")\n",
    "plt.title(\"Distribution after standardization\")\n",
    "# plt.title(\"Distribution after normalization\")\n",
    "plt.show()"
   ]
  },
  {
   "cell_type": "code",
   "execution_count": 591,
   "metadata": {},
   "outputs": [
    {
     "name": "stdout",
     "output_type": "stream",
     "text": [
      "the mse of multi-vartiate model's training set is 0.0\n",
      "the mse of multi-vartiate model's testing set is 0.0\n",
      "the variance explained of training set in this model is -0.095\n",
      "the variance explained of testing set in this model is 0.999\n",
      "(7.228348558334754e-05, 9.476957712306879e-08)\n"
     ]
    }
   ],
   "source": [
    "#initialization\n",
    "x_training = after_normalization  [:900, :-1]\n",
    "y_training = after_normalization  [:900, -1]\n",
    "x_testing = after_normalization  [900:, :-1]\n",
    "y_testing = after_normalization [900:, -1]\n",
    "\n",
    "#new learning rate:\n",
    "lr = 1.1e-13\n",
    "#new epoch\n",
    "epoches = 100000\n",
    "\n",
    "current_character_m = multi_variate_linear_regression_training(x_training, y_training, lr, epoches)\n",
    "multi_variate_mse_result = multi_variate_linear_regression_model(current_character_m, x_training, y_training, x_testing, y_testing)\n",
    "current_character_variance = calculate_current_character_variance(y_training)\n",
    "result = calculate_current_character_variance_explained(current_character_variance, multi_variate_mse_result)\n",
    "print(multi_variate_mse_result)"
   ]
  },
  {
   "cell_type": "code",
   "execution_count": 592,
   "id": "f8057edd",
   "metadata": {},
   "outputs": [
    {
     "name": "stdout",
     "output_type": "stream",
     "text": [
      "the mse of multi-vartiate model's training set is 1.1\n",
      "the mse of multi-vartiate model's testing set is 0.1\n",
      "the variance explained of training set in this model is -0.001\n",
      "the variance explained of testing set in this model is 0.939\n",
      "(1.1345330579318404, 0.06861343078398412)\n"
     ]
    }
   ],
   "source": [
    "x_training = after_standardization [:900, :]\n",
    "y_training = after_standardization [:900, -1]\n",
    "x_testing = after_standardization [900:, :]\n",
    "y_testing = after_standardization [900:, -1]\n",
    "\n",
    "#new learning rate:\n",
    "lr = 1.1e-13\n",
    "#new epoch\n",
    "epoches = 100000\n",
    "\n",
    "current_character_m = multi_variate_linear_regression_training(x_training, y_training, lr, epoches)\n",
    "multi_variate_mse_result = multi_variate_linear_regression_model(current_character_m, x_training, y_training, x_testing, y_testing)\n",
    "current_character_variance = calculate_current_character_variance(y_training)\n",
    "result = calculate_current_character_variance_explained(current_character_variance, multi_variate_mse_result)\n",
    "print(multi_variate_mse_result)"
   ]
  },
  {
   "cell_type": "code",
   "execution_count": 593,
   "id": "a2727108",
   "metadata": {},
   "outputs": [
    {
     "name": "stdout",
     "output_type": "stream",
     "text": [
      "Current feature variable is: Cement (component 1)(kg in a m^3 mixture)\n",
      "the coefficient m of this question should be:0.10863230970133013\n",
      "the coefficient b of this question should be:28.96800113254418\n",
      "MSE of Traing set's MSE is: 838.088\n",
      "MSE of Test set's MSE is: 854.39\n"
     ]
    }
   ],
   "source": [
    "#This is for get the result of standardlized data from uni-variate regression \n",
    "index_of_current_character = 0\n",
    "character = load.columns[index_of_current_character]\n",
    "training_set = after_standardization[:900]\n",
    "testing_set = after_standardization[900:]\n",
    "# for training set\n",
    "x_training = training_set[:,index_of_current_character] \n",
    "y_training = training_set[:,-1] \n",
    "# for testinh set\n",
    "x_testing = testing_set[:, index_of_current_character]\n",
    "y_testing = testing_set[:,-1]\n",
    "\n",
    "\n",
    "current_character_m_b = uni_variate_linear_regression_model_training(current_character_m_b, x_training, y_training, lr, epoches)\n",
    "final_model_trained_mse = uni_variate_linear_regression_model(x_training, y_training, x_testing, y_testing, current_character_m_b)"
   ]
  },
  {
   "cell_type": "markdown",
   "id": "02623164",
   "metadata": {},
   "source": [
    "The websites I referred to finish this work:\n",
    "\n",
    "1.https://pandas.pydata.org/docs/reference/api/pandas.read_excel.html\n",
    "\n",
    "2.https://towardsdatascience.com/top-10-matrix-operations-in-numpy-with-examples-d761448cb7a8\n",
    "\n",
    "3.https://blog.csdn.net/tintinetmilou/article/details/78119320\n",
    "\n",
    "4.https://www.analyticsvidhya.com/blog/2020/04/feature-scaling-machine-learning-normalization-standardization/\n",
    "\n",
    "5..https://www.codenong.com/4544292/\n",
    "\n",
    "6.https://blog.csdn.net/hohaizx/article/details/79101322"
   ]
  }
 ],
 "metadata": {
  "kernelspec": {
   "display_name": "Python 3",
   "language": "python",
   "name": "python3"
  },
  "language_info": {
   "codemirror_mode": {
    "name": "ipython",
    "version": 3
   },
   "file_extension": ".py",
   "mimetype": "text/x-python",
   "name": "python",
   "nbconvert_exporter": "python",
   "pygments_lexer": "ipython3",
   "version": "3.8.8"
  }
 },
 "nbformat": 4,
 "nbformat_minor": 5
}
